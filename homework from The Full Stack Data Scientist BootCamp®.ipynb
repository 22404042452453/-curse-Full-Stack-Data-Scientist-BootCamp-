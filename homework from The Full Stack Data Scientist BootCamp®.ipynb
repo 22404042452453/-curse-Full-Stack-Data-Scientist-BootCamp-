{
 "cells": [
  {
   "cell_type": "code",
   "execution_count": 1,
   "id": "2529ee1f",
   "metadata": {},
   "outputs": [],
   "source": [
    "import numpy as np\n",
    "#import library"
   ]
  },
  {
   "cell_type": "markdown",
   "id": "b9af871f",
   "metadata": {},
   "source": [
    "create first array "
   ]
  },
  {
   "cell_type": "code",
   "execution_count": 3,
   "id": "395f4aeb",
   "metadata": {},
   "outputs": [
    {
     "data": {
      "text/plain": [
       "array([15, 16, 17, 18, 19, 20, 21, 22, 23, 24, 25, 26, 27, 28, 29, 30, 31,\n",
       "       32, 33, 34, 35, 36, 37, 38, 39, 40])"
      ]
     },
     "execution_count": 3,
     "metadata": {},
     "output_type": "execute_result"
    }
   ],
   "source": [
    "array1 = np.arange(15,41)\n",
    "array1"
   ]
  },
  {
   "cell_type": "code",
   "execution_count": null,
   "id": "9864c81c",
   "metadata": {},
   "outputs": [],
   "source": [
    "create second array"
   ]
  },
  {
   "cell_type": "code",
   "execution_count": 4,
   "id": "44fc9907",
   "metadata": {},
   "outputs": [
    {
     "data": {
      "text/plain": [
       "array([10, 11, 12, 13, 14, 15, 16, 17, 18, 19, 20, 21, 22, 23, 24, 25])"
      ]
     },
     "execution_count": 4,
     "metadata": {},
     "output_type": "execute_result"
    }
   ],
   "source": [
    "array2 = np.arange(10,26)\n",
    "array2"
   ]
  },
  {
   "cell_type": "markdown",
   "id": "84214ed6",
   "metadata": {},
   "source": [
    "they have different len"
   ]
  },
  {
   "cell_type": "code",
   "execution_count": 5,
   "id": "7dd0d8e4",
   "metadata": {},
   "outputs": [
    {
     "data": {
      "text/plain": [
       "True"
      ]
     },
     "execution_count": 5,
     "metadata": {},
     "output_type": "execute_result"
    }
   ],
   "source": [
    "len(array1)>len(array2)"
   ]
  },
  {
   "cell_type": "markdown",
   "id": "8b807692",
   "metadata": {},
   "source": [
    "Create an array of all even integers from 2 to 20 and name it even_aaray1"
   ]
  },
  {
   "cell_type": "code",
   "execution_count": 8,
   "id": "5b372a07",
   "metadata": {},
   "outputs": [
    {
     "data": {
      "text/plain": [
       "array([ 2,  4,  6,  8, 10, 12, 14, 16, 18, 20])"
      ]
     },
     "execution_count": 8,
     "metadata": {},
     "output_type": "execute_result"
    }
   ],
   "source": [
    "even_aaray1 = np.arange(2,21,2)\n",
    "even_aaray1 "
   ]
  },
  {
   "cell_type": "markdown",
   "id": "9122b01b",
   "metadata": {},
   "source": [
    "create an array of all even integers from 34 to 42 and name it even_array2"
   ]
  },
  {
   "cell_type": "code",
   "execution_count": 9,
   "id": "25542ed9",
   "metadata": {},
   "outputs": [
    {
     "data": {
      "text/plain": [
       "array([34, 36, 38, 40, 42])"
      ]
     },
     "execution_count": 9,
     "metadata": {},
     "output_type": "execute_result"
    }
   ],
   "source": [
    "even_array2 = np.arange(34,43,2)\n",
    "even_array2 "
   ]
  },
  {
   "cell_type": "markdown",
   "id": "a834f36e",
   "metadata": {},
   "source": [
    "Create a matrix of the two arrays using the stack function"
   ]
  },
  {
   "cell_type": "code",
   "execution_count": 13,
   "id": "6a973901",
   "metadata": {},
   "outputs": [],
   "source": [
    "my_first_array = [1,2]\n",
    "my_second_array = [3,4]"
   ]
  },
  {
   "cell_type": "code",
   "execution_count": 14,
   "id": "c4c9b71a",
   "metadata": {},
   "outputs": [
    {
     "data": {
      "text/plain": [
       "array([[1, 3],\n",
       "       [2, 4]])"
      ]
     },
     "execution_count": 14,
     "metadata": {},
     "output_type": "execute_result"
    }
   ],
   "source": [
    "np.stack([my_first_array,my_second_array],axis=1)"
   ]
  },
  {
   "cell_type": "code",
   "execution_count": 15,
   "id": "8ee7b94c",
   "metadata": {},
   "outputs": [
    {
     "data": {
      "text/plain": [
       "array([[1, 2],\n",
       "       [3, 4]])"
      ]
     },
     "execution_count": 15,
     "metadata": {},
     "output_type": "execute_result"
    }
   ],
   "source": [
    "np.stack([my_first_array,my_second_array],axis=0)"
   ]
  },
  {
   "cell_type": "code",
   "execution_count": null,
   "id": "0f69a477",
   "metadata": {},
   "outputs": [],
   "source": [
    " Create a 6×6 matrix with values ranging from 0 to 36 and retrieve the intersection of the 3rd row and 2nd column"
   ]
  },
  {
   "cell_type": "code",
   "execution_count": 23,
   "id": "6d8e1da0",
   "metadata": {},
   "outputs": [
    {
     "data": {
      "text/plain": [
       "array([[21,  5, 22, 36,  1, 34],\n",
       "       [34, 31, 36, 11, 35,  6],\n",
       "       [24, 19,  6, 18, 12,  8],\n",
       "       [ 8, 30, 17, 20, 16,  7],\n",
       "       [ 0, 29,  8, 10, 29, 10],\n",
       "       [32, 14,  0, 17, 25, 29]])"
      ]
     },
     "execution_count": 23,
     "metadata": {},
     "output_type": "execute_result"
    }
   ],
   "source": [
    "my_matrix = np.array([np.random.randint(0,37) for i in range(36)]).reshape([6,6])\n",
    "my_matrix"
   ]
  },
  {
   "cell_type": "code",
   "execution_count": 24,
   "id": "d66c960e",
   "metadata": {},
   "outputs": [
    {
     "data": {
      "text/plain": [
       "19"
      ]
     },
     "execution_count": 24,
     "metadata": {},
     "output_type": "execute_result"
    }
   ],
   "source": [
    "my_matrix[2,1]"
   ]
  },
  {
   "cell_type": "markdown",
   "id": "f55cfe87",
   "metadata": {},
   "source": [
    "Create a 5×2 matrix from a standard normal distribution generated with python."
   ]
  },
  {
   "cell_type": "code",
   "execution_count": 31,
   "id": "84d59737",
   "metadata": {},
   "outputs": [
    {
     "data": {
      "text/plain": [
       "array([[ 0.26042366,  1.90007099],\n",
       "       [ 0.08504465, -0.21929929],\n",
       "       [-0.69194271, -0.01462335],\n",
       "       [-0.97207113,  1.00801859],\n",
       "       [ 0.48813172,  0.54244914]])"
      ]
     },
     "execution_count": 31,
     "metadata": {},
     "output_type": "execute_result"
    }
   ],
   "source": [
    "my_norm_matrix = np.random.normal(0,1,10).reshape([5,2])\n",
    "my_norm_matrix "
   ]
  },
  {
   "cell_type": "markdown",
   "id": "2f66d593",
   "metadata": {},
   "source": [
    "Retrieve the value intersecting the last row and the last column of your matrix"
   ]
  },
  {
   "cell_type": "code",
   "execution_count": 32,
   "id": "34e489b7",
   "metadata": {},
   "outputs": [
    {
     "data": {
      "text/plain": [
       "0.5424491412704973"
      ]
     },
     "execution_count": 32,
     "metadata": {},
     "output_type": "execute_result"
    }
   ],
   "source": [
    "my_norm_matrix[-1,-1]"
   ]
  },
  {
   "cell_type": "markdown",
   "id": "aa1656b0",
   "metadata": {},
   "source": [
    "Using your matrix created at 4.1, calculate the following:"
   ]
  },
  {
   "cell_type": "markdown",
   "id": "352ad406",
   "metadata": {},
   "source": [
    "a. minimum of the matrix\n",
    "\n",
    "b. maximum of the matrix\n",
    "\n",
    "c. standard deviation of the matrix\n",
    "\n",
    "d. variance of the matrix\n",
    "\n",
    "e. mean of the matrix"
   ]
  },
  {
   "cell_type": "code",
   "execution_count": 33,
   "id": "854b5cef",
   "metadata": {},
   "outputs": [
    {
     "data": {
      "text/plain": [
       "-0.9720711349502427"
      ]
     },
     "execution_count": 33,
     "metadata": {},
     "output_type": "execute_result"
    }
   ],
   "source": [
    "my_norm_matrix.min()"
   ]
  },
  {
   "cell_type": "code",
   "execution_count": 34,
   "id": "9936b617",
   "metadata": {},
   "outputs": [
    {
     "data": {
      "text/plain": [
       "1.900070992409644"
      ]
     },
     "execution_count": 34,
     "metadata": {},
     "output_type": "execute_result"
    }
   ],
   "source": [
    "my_norm_matrix.max()"
   ]
  },
  {
   "cell_type": "code",
   "execution_count": 35,
   "id": "2f94b6dc",
   "metadata": {},
   "outputs": [
    {
     "data": {
      "text/plain": [
       "0.783362296021581"
      ]
     },
     "execution_count": 35,
     "metadata": {},
     "output_type": "execute_result"
    }
   ],
   "source": [
    "my_norm_matrix.std()"
   ]
  },
  {
   "cell_type": "code",
   "execution_count": 36,
   "id": "e6d687a8",
   "metadata": {},
   "outputs": [
    {
     "data": {
      "text/plain": [
       "0.6136564868282032"
      ]
     },
     "execution_count": 36,
     "metadata": {},
     "output_type": "execute_result"
    }
   ],
   "source": [
    "my_norm_matrix.var()"
   ]
  },
  {
   "cell_type": "code",
   "execution_count": 37,
   "id": "9a061eb6",
   "metadata": {},
   "outputs": [
    {
     "data": {
      "text/plain": [
       "0.238620227395211"
      ]
     },
     "execution_count": 37,
     "metadata": {},
     "output_type": "execute_result"
    }
   ],
   "source": [
    "my_norm_matrix.mean()"
   ]
  }
 ],
 "metadata": {
  "kernelspec": {
   "display_name": "Python 3 (ipykernel)",
   "language": "python",
   "name": "python3"
  },
  "language_info": {
   "codemirror_mode": {
    "name": "ipython",
    "version": 3
   },
   "file_extension": ".py",
   "mimetype": "text/x-python",
   "name": "python",
   "nbconvert_exporter": "python",
   "pygments_lexer": "ipython3",
   "version": "3.9.7"
  }
 },
 "nbformat": 4,
 "nbformat_minor": 5
}
